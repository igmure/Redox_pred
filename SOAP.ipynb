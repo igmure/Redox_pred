{
 "cells": [
  {
   "cell_type": "markdown",
   "metadata": {},
   "source": [
    "SOAP FOR XYZ FILES"
   ]
  },
  {
   "cell_type": "markdown",
   "metadata": {},
   "source": [
    "load and prepare"
   ]
  },
  {
   "cell_type": "code",
   "execution_count": 45,
   "metadata": {},
   "outputs": [],
   "source": [
    "import pandas as pd\n",
    "from rdkit import Chem\n",
    "from rdkit.Chem import Descriptors, rdMolDescriptors\n",
    "from mordred import Calculator, descriptors\n",
    "import os\n",
    "import numpy, math, random\n",
    "#from visualise import view\n",
    "from ase import Atoms\n",
    "import sys\n",
    "sys.path.insert(0, './data/descriptor_codes/')\n",
    "sys.path.insert(0, './data/descriptor_codes/src')\n",
    "from dscribe.descriptors import SOAP"
   ]
  },
  {
   "cell_type": "code",
   "execution_count": 63,
   "metadata": {},
   "outputs": [
    {
     "name": "stdout",
     "output_type": "stream",
     "text": [
      "['O', 'C', 'N', 'H']\n",
      "\n",
      "\n",
      "[[-9.2812740e-01  1.3926966e+00 -5.0190000e-04]\n",
      " [-1.7228556e+00  2.4414410e-01 -1.8870000e-04]\n",
      " [-1.1278776e+00 -1.0205237e+00  3.1700000e-04]\n",
      " [ 2.4663630e-01 -1.1413699e+00  3.5030000e-04]\n",
      " [ 1.0247464e+00  1.3403200e-02 -1.0360000e-04]\n",
      " [ 4.4809080e-01  1.2807039e+00 -4.2290000e-04]\n",
      " [ 1.0856487e+00  2.1513617e+00 -7.2130000e-04]\n",
      " [ 2.4597585e+00 -1.0507410e-01 -4.1320000e-04]\n",
      " [ 2.9413443e+00 -1.2211332e+00 -2.4630000e-04]\n",
      " [ 3.1176963e+00  9.1709210e-01  8.4900000e-04]\n",
      " [ 7.2950510e-01 -2.1063230e+00  6.3520000e-04]\n",
      " [-1.7634930e+00 -1.8926809e+00  5.6820000e-04]\n",
      " [-3.1928477e+00  3.6097660e-01 -5.9470000e-04]\n",
      " [-3.9600968e+00 -5.6957230e-01  1.2310000e-04]\n",
      " [-3.5608860e+00  1.4029221e+00 -4.1700000e-05]\n",
      " [-1.3910697e+00  2.3673404e+00 -8.5770000e-04]]\n"
     ]
    }
   ],
   "source": [
    "with open('data/1.gfn2.xyz', 'r') as xyz_file:\n",
    "    lines = xyz_file.readlines()[2:]\n",
    "atomic_symbols = []\n",
    "for line in lines:\n",
    "    atomic_symbols.append(line.split()[0])\n",
    "import numpy as np\n",
    " \n",
    "atomic_coordinates = np.array([line.split()[1:4] for line in lines], dtype=float)\n",
    "atomic_symbols1 = set(atomic_symbols)\n",
    "atomic_symbols1 = list(atomic_symbols1)\n",
    "print(atomic_symbols1)\n",
    "print('\\n')\n",
    "print(atomic_coordinates)\n"
   ]
  },
  {
   "cell_type": "markdown",
   "metadata": {},
   "source": [
    "box and soap"
   ]
  },
  {
   "cell_type": "code",
   "execution_count": 107,
   "metadata": {},
   "outputs": [],
   "source": [
    "calcpos = np.mean(atomic_coordinates, axis=0)\n",
    "Box = Atoms(\n",
    "    cell=[\n",
    "        [100.6402, 0.0, 0.0],\n",
    "        [0.0, 100.6402, 0.0],\n",
    "        [0.0, 0.0, 100.6402]\n",
    "    ],\n",
    "    positions = atomic_coordinates,\n",
    "    \n",
    "    symbols=atomic_symbols,\n",
    ")\n",
    "\n",
    "\n",
    "soaper = SOAP(\n",
    "    r_cut=6,\n",
    "    n_max=10,\n",
    "    l_max=10,\n",
    "    species=atomic_symbols1,\n",
    "    rbf='gto',\n",
    "    sparse=False\n",
    ")"
   ]
  },
  {
   "cell_type": "markdown",
   "metadata": {},
   "source": [
    "check"
   ]
  },
  {
   "cell_type": "code",
   "execution_count": 108,
   "metadata": {},
   "outputs": [
    {
     "name": "stdout",
     "output_type": "stream",
     "text": [
      "[0.00048816 0.00186274 0.00474998 0.00980216 0.01645807]\n"
     ]
    }
   ],
   "source": [
    "soap1 = soaper.create(Box, centers=[calcpos])\n",
    "#print(\"Size of descriptor: {}\\n\".format(soap1.shape[1]))\n",
    "#print(\"First five values, for position \\n {}: \\n{}\".format(atomic_coordinates, soap1[0,:5]))\n",
    "print(soap1[0,:5])"
   ]
  },
  {
   "cell_type": "code",
   "execution_count": 109,
   "metadata": {},
   "outputs": [
    {
     "name": "stdout",
     "output_type": "stream",
     "text": [
      "(1, 9020)\n"
     ]
    }
   ],
   "source": [
    "print(soap1.shape)"
   ]
  },
  {
   "cell_type": "code",
   "execution_count": 110,
   "metadata": {},
   "outputs": [
    {
     "name": "stdout",
     "output_type": "stream",
     "text": [
      "(16, 3)\n"
     ]
    }
   ],
   "source": [
    "print(atomic_coordinates.shape)"
   ]
  }
 ],
 "metadata": {
  "kernelspec": {
   "display_name": "redoxML",
   "language": "python",
   "name": "python3"
  },
  "language_info": {
   "codemirror_mode": {
    "name": "ipython",
    "version": 3
   },
   "file_extension": ".py",
   "mimetype": "text/x-python",
   "name": "python",
   "nbconvert_exporter": "python",
   "pygments_lexer": "ipython3",
   "version": "3.8.2"
  }
 },
 "nbformat": 4,
 "nbformat_minor": 2
}
