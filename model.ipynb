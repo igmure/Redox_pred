{
 "cells": [
  {
   "cell_type": "code",
   "execution_count": 1,
   "metadata": {},
   "outputs": [],
   "source": [
    "from utils.Models import RegressionModel"
   ]
  },
  {
   "cell_type": "code",
   "execution_count": null,
   "metadata": {},
   "outputs": [],
   "source": [
    "import pandas as pd\n",
    "\n",
    "df_descriptors = pd.read_csv('data/descriptors.csv')\n",
    "df = pd.read_csv('data/OROP_updated.csv')"
   ]
  },
  {
   "cell_type": "code",
   "execution_count": null,
   "metadata": {},
   "outputs": [],
   "source": [
    "X = df_descriptors  # DataFrame containing descriptors\n",
    "y = df['dG_red']    # Target values to predict\n",
    "\n",
    "# Create and train the regression model\n",
    "reg_model = RegressionModel(X, y)\n",
    "reg_model.run()\n",
    "\n",
    "# Display metrics for all models\n",
    "print(\"Metrics for all models:\")\n",
    "for model_name, metrics in reg_model.metrics.items():\n",
    "    print(f\"{model_name}: {metrics}\")"
   ]
  }
 ],
 "metadata": {
  "kernelspec": {
   "display_name": "pum-24",
   "language": "python",
   "name": "python3"
  },
  "language_info": {
   "codemirror_mode": {
    "name": "ipython",
    "version": 3
   },
   "file_extension": ".py",
   "mimetype": "text/x-python",
   "name": "python",
   "nbconvert_exporter": "python",
   "pygments_lexer": "ipython3",
   "version": "3.9.21"
  }
 },
 "nbformat": 4,
 "nbformat_minor": 2
}
