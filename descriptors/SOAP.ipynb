{
 "cells": [
  {
   "cell_type": "markdown",
   "metadata": {},
   "source": [
    "SOAP FOR XYZ FILES"
   ]
  },
  {
   "cell_type": "markdown",
   "metadata": {},
   "source": [
    "load and prepare"
   ]
  },
  {
   "cell_type": "code",
   "execution_count": 1,
   "metadata": {},
   "outputs": [],
   "source": [
    "import pandas as pd\n",
    "from rdkit import Chem\n",
    "from rdkit.Chem import Descriptors, rdMolDescriptors\n",
    "from mordred import Calculator, descriptors\n",
    "import os\n",
    "import numpy, math, random\n",
    "#from visualise import view\n",
    "from ase import Atoms\n",
    "# import sys\n",
    "# sys.path.insert(0, './data/descriptor_codes/')\n",
    "# sys.path.insert(0, './data/descriptor_codes/src')\n",
    "from dscribe.descriptors import SOAP"
   ]
  },
  {
   "cell_type": "code",
   "execution_count": 2,
   "metadata": {},
   "outputs": [
    {
     "name": "stdout",
     "output_type": "stream",
     "text": [
      "['H', 'C']\n",
      "\n",
      "\n",
      "[[ 2.43657686e+00 -6.92133254e-01  2.07812401e-05]\n",
      " [ 2.43658018e+00  6.92124014e-01  2.72198768e-05]\n",
      " [ 1.22901070e+00  1.39397634e+00  1.99468715e-05]\n",
      " [ 3.43342043e-06  7.12530909e-01  7.14065790e-06]\n",
      " [-1.22900043e+00  1.39398219e+00  1.00629271e-06]\n",
      " [-2.43657341e+00  6.92135711e-01 -1.17710472e-05]\n",
      " [-2.43657675e+00 -6.92121579e-01 -1.81013037e-05]\n",
      " [-1.22900727e+00 -1.39397382e+00 -1.19756425e-05]\n",
      " [ 3.65049300e-08 -7.12528466e-01  5.46229070e-07]\n",
      " [ 1.22900387e+00 -1.39397977e+00  7.29993441e-06]\n",
      " [ 1.23663547e+00 -2.47558383e+00  1.71706349e-06]\n",
      " [-1.23664378e+00 -2.47557790e+00 -1.66952523e-05]\n",
      " [-3.37040600e+00 -1.23506617e+00 -2.74312415e-05]\n",
      " [-3.37040002e+00  1.23508487e+00 -1.67141879e-05]\n",
      " [-1.23663196e+00  2.47558627e+00  6.51593895e-06]\n",
      " [ 1.23664735e+00  2.47558038e+00  2.35875126e-05]\n",
      " [ 3.37040941e+00  1.23506867e+00  3.75449178e-05]\n",
      " [ 3.37040340e+00 -1.23508256e+00  2.60821397e-05]]\n"
     ]
    }
   ],
   "source": [
    "with open('data/rop313/orop/1/1.b973c.xyz', 'r') as xyz_file:\n",
    "    lines = xyz_file.readlines()[2:]\n",
    "atomic_symbols = []\n",
    "for line in lines:\n",
    "    atomic_symbols.append(line.split()[0])\n",
    "import numpy as np\n",
    " \n",
    "atomic_coordinates = np.array([line.split()[1:4] for line in lines], dtype=float)\n",
    "atomic_symbols1 = set(atomic_symbols)\n",
    "atomic_symbols1 = list(atomic_symbols1)\n",
    "print(atomic_symbols1)\n",
    "print('\\n')\n",
    "print(atomic_coordinates)\n"
   ]
  },
  {
   "cell_type": "markdown",
   "metadata": {},
   "source": [
    "box and soap"
   ]
  },
  {
   "cell_type": "code",
   "execution_count": 3,
   "metadata": {},
   "outputs": [],
   "source": [
    "calcpos = np.mean(atomic_coordinates, axis=0)\n",
    "Box = Atoms(\n",
    "    cell=[\n",
    "        [100.6402, 0.0, 0.0],\n",
    "        [0.0, 100.6402, 0.0],\n",
    "        [0.0, 0.0, 100.6402]\n",
    "    ],\n",
    "    positions = atomic_coordinates,\n",
    "    \n",
    "    symbols=atomic_symbols,\n",
    ")\n",
    "\n",
    "\n",
    "soaper = SOAP(\n",
    "    r_cut=6,\n",
    "    n_max=10,\n",
    "    l_max=10,\n",
    "    species=atomic_symbols1,\n",
    "    rbf='gto',\n",
    "    sparse=False\n",
    ")"
   ]
  },
  {
   "cell_type": "markdown",
   "metadata": {},
   "source": [
    "check"
   ]
  },
  {
   "cell_type": "code",
   "execution_count": 4,
   "metadata": {},
   "outputs": [
    {
     "name": "stdout",
     "output_type": "stream",
     "text": [
      "[0.00028533 0.00110428 0.00293385 0.00661465 0.01369122]\n"
     ]
    }
   ],
   "source": [
    "soap1 = soaper.create(Box, centers=[calcpos])\n",
    "#print(\"Size of descriptor: {}\\n\".format(soap1.shape[1]))\n",
    "#print(\"First five values, for position \\n {}: \\n{}\".format(atomic_coordinates, soap1[0,:5]))\n",
    "print(soap1[0,:5])"
   ]
  },
  {
   "cell_type": "code",
   "execution_count": 5,
   "metadata": {},
   "outputs": [
    {
     "name": "stdout",
     "output_type": "stream",
     "text": [
      "(1, 2310)\n"
     ]
    }
   ],
   "source": [
    "print(soap1.shape)"
   ]
  },
  {
   "cell_type": "code",
   "execution_count": 6,
   "metadata": {},
   "outputs": [
    {
     "name": "stdout",
     "output_type": "stream",
     "text": [
      "(18, 3)\n"
     ]
    }
   ],
   "source": [
    "print(atomic_coordinates.shape)"
   ]
  },
  {
   "cell_type": "code",
   "execution_count": 5,
   "metadata": {},
   "outputs": [
    {
     "name": "stdout",
     "output_type": "stream",
     "text": [
      "SOAP descriptors calculated and saved to soap_descriptors_minimal.csv\n"
     ]
    }
   ],
   "source": [
    "import os\n",
    "import numpy as np\n",
    "import pandas as pd\n",
    "from ase import Atoms\n",
    "from dscribe.descriptors import SOAP\n",
    "\n",
    "# Function to calculate SOAP descriptors for a given XYZ file\n",
    "def calculate_soap(xyz_file_path):\n",
    "    with open(xyz_file_path, 'r') as xyz_file:\n",
    "        lines = xyz_file.readlines()[2:]\n",
    "    atomic_symbols = [line.split()[0] for line in lines]\n",
    "    atomic_coordinates = np.array([line.split()[1:4] for line in lines], dtype=float)\n",
    "    atomic_symbols1 = list(set(atomic_symbols))\n",
    "    \n",
    "    calcpos = np.mean(atomic_coordinates, axis=0)\n",
    "    Box = Atoms(\n",
    "        cell=[\n",
    "            [100.6402, 0.0, 0.0],\n",
    "            [0.0, 100.6402, 0.0],\n",
    "            [0.0, 0.0, 100.6402]\n",
    "        ],\n",
    "        positions=atomic_coordinates,\n",
    "        symbols=atomic_symbols,\n",
    "    )\n",
    "    \n",
    "    # soaper = SOAP(\n",
    "    #     r_cut=4,\n",
    "    #     n_max=5,\n",
    "    #     l_max=6,\n",
    "    #     species=atomic_symbols1,\n",
    "    #     rbf='gto',\n",
    "    #     sparse=False\n",
    "    # )\n",
    "    # wersja minimalna\n",
    "    soaper = SOAP(\n",
    "    r_cut=3.0,        # Promień odcięcia\n",
    "    n_max=3,          # Liczba funkcji radialnych\n",
    "    l_max=2,          # Maksymalny moment kątowy\n",
    "    species=atomic_symbols1,\n",
    "    rbf='gto',        # Funkcja radialna\n",
    "    sparse=False      # Nieskompresowany format\n",
    ")\n",
    "    \n",
    "    soap_descriptor = soaper.create(Box, centers=[calcpos])\n",
    "    return soap_descriptor\n",
    "\n",
    "# Directory containing the subdirectories with XYZ files\n",
    "base_dir = '../data/rop313/orop'\n",
    "\n",
    "# List to store the results\n",
    "results = []\n",
    "\n",
    "# Iterate through the subdirectories\n",
    "for subdir in os.listdir(base_dir):\n",
    "    subdir_path = os.path.join(base_dir, subdir)\n",
    "    if os.path.isdir(subdir_path):\n",
    "        xyz_file_path = os.path.join(subdir_path, '1.b973c.xyz')\n",
    "        if os.path.exists(xyz_file_path):\n",
    "            soap_descriptor = calculate_soap(xyz_file_path)\n",
    "            results.append({\n",
    "                'subdir': subdir,\n",
    "                'soap_descriptor': soap_descriptor.tolist()\n",
    "            })\n",
    "\n",
    "# Convert results to a DataFrame and save to a CSV file\n",
    "df_results = pd.DataFrame(results)\n",
    "df_results.to_csv('../data/soap_descriptors_minimal.csv', index=False)\n",
    "\n",
    "print(\"SOAP descriptors calculated and saved to soap_descriptors_minimal.csv\")"
   ]
  }
 ],
 "metadata": {
  "kernelspec": {
   "display_name": "ml",
   "language": "python",
   "name": "python3"
  },
  "language_info": {
   "codemirror_mode": {
    "name": "ipython",
    "version": 3
   },
   "file_extension": ".py",
   "mimetype": "text/x-python",
   "name": "python",
   "nbconvert_exporter": "python",
   "pygments_lexer": "ipython3",
   "version": "3.10.15"
  }
 },
 "nbformat": 4,
 "nbformat_minor": 2
}
