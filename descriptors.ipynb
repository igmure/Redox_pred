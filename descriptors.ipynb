{
 "cells": [
  {
   "cell_type": "code",
   "execution_count": 12,
   "metadata": {},
   "outputs": [],
   "source": [
    "import pandas as pd\n",
    "from rdkit import Chem\n",
    "from rdkit.Chem import Descriptors, rdMolDescriptors\n",
    "from mordred import Calculator, descriptors\n",
    "import os"
   ]
  },
  {
   "cell_type": "code",
   "execution_count": 13,
   "metadata": {},
   "outputs": [],
   "source": [
    "# Load input data from CSV file\n",
    "input_file = 'data/OROP_updated.csv'\n",
    "input_data = pd.read_csv(input_file)\n"
   ]
  },
  {
   "cell_type": "code",
   "execution_count": 14,
   "metadata": {},
   "outputs": [],
   "source": [
    "# Function to generate 0D descriptors\n",
    "def generate_0D_descriptors(mol):\n",
    "    return {\n",
    "        'MolWt': Descriptors.MolWt(mol),\n",
    "        'NumAtoms': mol.GetNumAtoms(),\n",
    "        'NumHeteroatoms': Descriptors.NumHeteroatoms(mol)\n",
    "    }\n",
    "\n",
    "# Function to generate 1D descriptors\n",
    "def generate_1D_descriptors(mol):\n",
    "    return {\n",
    "        'NumRings': Descriptors.RingCount(mol),\n",
    "        'NumRotatableBonds': Descriptors.NumRotatableBonds(mol)\n",
    "    }\n",
    "\n",
    "# Function to generate 2D descriptors\n",
    "def generate_2D_descriptors(mol):\n",
    "    descriptors = {\n",
    "        'TPSA': Descriptors.TPSA(mol),\n",
    "        'LogP': Descriptors.MolLogP(mol),\n",
    "        'NumHBD': rdMolDescriptors.CalcNumHBD(mol),\n",
    "        'NumHBA': rdMolDescriptors.CalcNumHBA(mol),\n",
    "        'FractionCSP3': rdMolDescriptors.CalcFractionCSP3(mol)\n",
    "    }\n",
    "    return descriptors"
   ]
  },
  {
   "cell_type": "code",
   "execution_count": 16,
   "metadata": {},
   "outputs": [],
   "source": [
    "calc = Calculator(descriptors, ignore_3D=True)  # ignore_3D=True, jeśli nie chcesz obliczać deskryptorów 3D\n"
   ]
  },
  {
   "cell_type": "code",
   "execution_count": 17,
   "metadata": {},
   "outputs": [],
   "source": [
    "\n",
    "# Function to add charge and unpaired electrons descriptors\n",
    "def generate_charge_descriptors(row):\n",
    "    return {\n",
    "        'Charge_gn': row['Charge_gn'],\n",
    "        'UHF_gn': row['UHF_gn'],\n",
    "        'Charge_rd': row['Charge_rd'],\n",
    "        'UHF_rd': row['UHF_rd']\n",
    "    }\n",
    "\n",
    "from mordred import Calculator, descriptors\n",
    "\n",
    "# Initialize the Mordred calculator\n",
    "calc = Calculator(descriptors, ignore_3D=True)\n",
    "\n",
    "def generate_descriptors(smiles, row):\n",
    "    mol = Chem.MolFromSmiles(smiles)\n",
    "    if mol is None:\n",
    "        return None\n",
    "\n",
    "    # Calculate descriptors using Mordred\n",
    "    mordred_result = calc(mol)\n",
    "    mordred_dict = mordred_result.asdict()\n",
    "\n",
    "    # Calculate 0D, 1D, and 2D descriptors using RDKit\n",
    "    rdkit_descriptors = {\n",
    "        'MolWt': Descriptors.MolWt(mol),\n",
    "        'NumAtoms': mol.GetNumAtoms(),\n",
    "        'NumHeteroatoms': Descriptors.NumHeteroatoms(mol),\n",
    "        'NumRings': Descriptors.RingCount(mol),\n",
    "        'NumRotatableBonds': Descriptors.NumRotatableBonds(mol),\n",
    "        'TPSA': Descriptors.TPSA(mol),\n",
    "        'LogP': Descriptors.MolLogP(mol),\n",
    "        'NumHBD': rdMolDescriptors.CalcNumHBD(mol),\n",
    "        'NumHBA': rdMolDescriptors.CalcNumHBA(mol),\n",
    "        'FractionCSP3': rdMolDescriptors.CalcFractionCSP3(mol)\n",
    "    }\n",
    "\n",
    "    # Combine Mordred and RDKit descriptors\n",
    "    descriptors = {**mordred_dict, **rdkit_descriptors}\n",
    "\n",
    "    # Add charge and unpaired electrons descriptors\n",
    "    descriptors.update(generate_charge_descriptors(row))\n",
    "\n",
    "    return descriptors\n"
   ]
  },
  {
   "cell_type": "code",
   "execution_count": 21,
   "metadata": {},
   "outputs": [
    {
     "ename": "TypeError",
     "evalue": "No registered converter was able to produce a C++ rvalue of type std::__cxx11::basic_string<wchar_t, std::char_traits<wchar_t>, std::allocator<wchar_t> > from this Python object of type int",
     "output_type": "error",
     "traceback": [
      "\u001b[0;31m---------------------------------------------------------------------------\u001b[0m",
      "\u001b[0;31mTypeError\u001b[0m                                 Traceback (most recent call last)",
      "Cell \u001b[0;32mIn[21], line 8\u001b[0m\n\u001b[1;32m      6\u001b[0m \u001b[38;5;28;01mif\u001b[39;00m pd\u001b[38;5;241m.\u001b[39misna(smiles):\n\u001b[1;32m      7\u001b[0m     \u001b[38;5;28;01mcontinue\u001b[39;00m\n\u001b[0;32m----> 8\u001b[0m descriptors \u001b[38;5;241m=\u001b[39m \u001b[43mgenerate_descriptors\u001b[49m\u001b[43m(\u001b[49m\u001b[43msmiles\u001b[49m\u001b[43m,\u001b[49m\u001b[43m \u001b[49m\u001b[43mrow\u001b[49m\u001b[43m)\u001b[49m\n\u001b[1;32m      9\u001b[0m \u001b[38;5;28;01mif\u001b[39;00m descriptors \u001b[38;5;129;01mis\u001b[39;00m \u001b[38;5;129;01mnot\u001b[39;00m \u001b[38;5;28;01mNone\u001b[39;00m:\n\u001b[1;32m     10\u001b[0m     descriptor_list\u001b[38;5;241m.\u001b[39mappend(descriptors)\n",
      "Cell \u001b[0;32mIn[19], line 2\u001b[0m, in \u001b[0;36mgenerate_descriptors\u001b[0;34m(smiles, row)\u001b[0m\n\u001b[1;32m      1\u001b[0m \u001b[38;5;28;01mdef\u001b[39;00m \u001b[38;5;21mgenerate_descriptors\u001b[39m(smiles, row):\n\u001b[0;32m----> 2\u001b[0m     mol \u001b[38;5;241m=\u001b[39m \u001b[43mChem\u001b[49m\u001b[38;5;241;43m.\u001b[39;49m\u001b[43mMolFromSmiles\u001b[49m\u001b[43m(\u001b[49m\u001b[43msmiles\u001b[49m\u001b[43m)\u001b[49m\n\u001b[1;32m      3\u001b[0m     \u001b[38;5;28;01mif\u001b[39;00m mol \u001b[38;5;129;01mis\u001b[39;00m \u001b[38;5;28;01mNone\u001b[39;00m:\n\u001b[1;32m      4\u001b[0m         \u001b[38;5;28;01mreturn\u001b[39;00m \u001b[38;5;28;01mNone\u001b[39;00m\n",
      "\u001b[0;31mTypeError\u001b[0m: No registered converter was able to produce a C++ rvalue of type std::__cxx11::basic_string<wchar_t, std::char_traits<wchar_t>, std::allocator<wchar_t> > from this Python object of type int"
     ]
    }
   ],
   "source": [
    "# Generate descriptors for each SMILES\n",
    "descriptor_list = []\n",
    "for idx, row in input_data.iterrows():\n",
    "    smiles = row['SMILES_1']\n",
    "    solvent = row['Solvent']\n",
    "    if pd.isna(smiles):\n",
    "        continue\n",
    "    descriptors = generate_descriptors(smiles, row)\n",
    "    if descriptors is not None:\n",
    "        descriptor_list.append(descriptors)\n",
    "\n",
    "# Create a DataFrame from the descriptor list\n",
    "output_data = pd.DataFrame(descriptor_list)\n",
    "output_data"
   ]
  },
  {
   "cell_type": "markdown",
   "metadata": {},
   "source": [
    "The `TypeError` indicates that there is an attempt to convert an `int` to a `std::string` (or similar type) in C++, which is not possible. This error might be occurring in the `generate_charge_descriptors` function or in the `calc` function from Mordred.\n",
    "\n",
    "To debug this, you can add print statements to check the types of the variables being passed around. Here is an example of how you can modify the \n",
    "\n",
    "generate_descriptors\n",
    "\n",
    " function to include these checks:\n",
    "\n"
   ]
  },
  {
   "cell_type": "code",
   "execution_count": 19,
   "metadata": {},
   "outputs": [],
   "source": [
    "\n",
    "\n",
    "def generate_descriptors(smiles, row):\n",
    "    mol = Chem.MolFromSmiles(smiles)\n",
    "    if mol is None:\n",
    "        return None\n",
    "\n",
    "    # Calculate descriptors using Mordred\n",
    "    mordred_result = calc(mol)\n",
    "    mordred_dict = mordred_result.asdict()\n",
    "\n",
    "    # Calculate 0D, 1D, and 2D descriptors using RDKit\n",
    "    rdkit_descriptors = {\n",
    "        'MolWt': Descriptors.MolWt(mol),\n",
    "        'NumAtoms': mol.GetNumAtoms(),\n",
    "        'NumHeteroatoms': Descriptors.NumHeteroatoms(mol),\n",
    "        'NumRings': Descriptors.RingCount(mol),\n",
    "        'NumRotatableBonds': Descriptors.NumRotatableBonds(mol),\n",
    "        'TPSA': Descriptors.TPSA(mol),\n",
    "        'LogP': Descriptors.MolLogP(mol),\n",
    "        'NumHBD': rdMolDescriptors.CalcNumHBD(mol),\n",
    "        'NumHBA': rdMolDescriptors.CalcNumHBA(mol),\n",
    "        'FractionCSP3': rdMolDescriptors.CalcFractionCSP3(mol)\n",
    "    }\n",
    "\n",
    "    # Combine Mordred and RDKit descriptors\n",
    "    descriptors = {**mordred_dict, **rdkit_descriptors}\n",
    "\n",
    "    # Debugging: Print the type of row\n",
    "    print(f\"Type of row: {type(row)}\")\n",
    "\n",
    "    # Add charge and unpaired electrons descriptors\n",
    "    charge_descriptors = generate_charge_descriptors(row)\n",
    "    print(f\"Type of charge_descriptors: {type(charge_descriptors)}\")\n",
    "    descriptors.update(charge_descriptors)\n",
    "\n",
    "    return descriptors"
   ]
  },
  {
   "cell_type": "markdown",
   "metadata": {},
   "source": [
    "\n",
    "\n",
    "Additionally, ensure that the `generate_charge_descriptors` function is returning a dictionary and that the \n",
    "\n",
    "row\n",
    "\n",
    " parameter is of the expected type. Here is an example of how you might modify `generate_charge_descriptors` to include type checks:\n",
    "\n"
   ]
  },
  {
   "cell_type": "code",
   "execution_count": 20,
   "metadata": {},
   "outputs": [],
   "source": [
    "\n",
    "\n",
    "def generate_charge_descriptors(row):\n",
    "    # Debugging: Print the type of row\n",
    "    print(f\"Type of row in generate_charge_descriptors: {type(row)}\")\n",
    "\n",
    "    # Ensure row is of the expected type (e.g., a dictionary or a specific class instance)\n",
    "    if not isinstance(row, dict):\n",
    "        raise TypeError(\"row must be a dictionary\")\n",
    "\n",
    "    # Example implementation (modify as needed)\n",
    "    charge_descriptors = {\n",
    "        'TotalCharge': row.get('TotalCharge', 0),\n",
    "        'UnpairedElectrons': row.get('UnpairedElectrons', 0)\n",
    "    }\n",
    "\n",
    "    return charge_descriptors"
   ]
  },
  {
   "cell_type": "markdown",
   "metadata": {},
   "source": [
    "\n",
    "\n",
    "By adding these checks, you can identify where the type mismatch is occurring and ensure that the correct types are being used throughout your code."
   ]
  },
  {
   "cell_type": "code",
   "execution_count": 9,
   "metadata": {},
   "outputs": [
    {
     "name": "stdout",
     "output_type": "stream",
     "text": [
      "Descriptors generated and saved to 'chemical_descriptors.csv'.\n"
     ]
    }
   ],
   "source": [
    "# Save to CSV\n",
    "output_data.to_csv('chemical_descriptors.csv', index=False)\n",
    "print(\"Descriptors generated and saved to 'chemical_descriptors.csv'.\")"
   ]
  }
 ],
 "metadata": {
  "kernelspec": {
   "display_name": "pum-24",
   "language": "python",
   "name": "python3"
  },
  "language_info": {
   "codemirror_mode": {
    "name": "ipython",
    "version": 3
   },
   "file_extension": ".py",
   "mimetype": "text/x-python",
   "name": "python",
   "nbconvert_exporter": "python",
   "pygments_lexer": "ipython3",
   "version": "3.9.21"
  }
 },
 "nbformat": 4,
 "nbformat_minor": 2
}
